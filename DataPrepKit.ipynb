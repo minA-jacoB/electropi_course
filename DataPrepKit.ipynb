{
 "cells": [
  {
   "cell_type": "code",
   "execution_count": 1,
   "id": "5eac156f-ed18-4cb8-a49b-9f0f4763af0f",
   "metadata": {},
   "outputs": [],
   "source": [
    "import pandas as pd\n",
    "import numpy as np\n",
    "import matplotlib as plt"
   ]
  },
  {
   "cell_type": "code",
   "execution_count": 2,
   "id": "96c75aa4-e3e2-4087-a93c-8fbb5a925cee",
   "metadata": {},
   "outputs": [],
   "source": [
    "#first step is recieve the input from the user, Test if the file type is one of csv, excel or json file types.\n"
   ]
  },
  {
   "cell_type": "code",
   "execution_count": 3,
   "id": "6148b355-293a-4efa-bd90-48066f61cd03",
   "metadata": {},
   "outputs": [
    {
     "name": "stdin",
     "output_type": "stream",
     "text": [
      "write your file name\n",
      " kkk.csv\n"
     ]
    }
   ],
   "source": [
    "inpt= input(\"write your file name\\n\")\n",
    "file_type = inpt.split(\".\")[-1]\n",
    "\n",
    "while True : \n",
    "    if file_type == \"csv\" or file_type ==\"xlsx\" or file_type ==\"json\":\n",
    "        break;\n",
    "    else:\n",
    "        inpt= input(\"please write excel, csv or json file type\\n\")\n",
    "        file_type = inpt.split(\".\")[-1]\n",
    "        \n",
    "        "
   ]
  },
  {
   "cell_type": "code",
   "execution_count": 15,
   "id": "b5b46989-0d7b-4d04-a99d-ddfcf43cbd12",
   "metadata": {},
   "outputs": [],
   "source": [
    "#then read the file according to the type of the file"
   ]
  },
  {
   "cell_type": "code",
   "execution_count": 17,
   "id": "6b5ed344-8f9a-414a-8ea8-4f671c7c72c9",
   "metadata": {},
   "outputs": [],
   "source": [
    "if file_type == \"csv\":\n",
    "    df= pd.read_csv(inpt)\n",
    "elif file_type == \"xlsx\":\n",
    "    df= pd.read_excel(inpt)\n",
    "elif file_type == \"json\":\n",
    "    df= pd.read_json(inpt)\n",
    "    "
   ]
  },
  {
   "cell_type": "code",
   "execution_count": 6,
   "id": "24b3037e-8071-406a-acdb-10916db06404",
   "metadata": {},
   "outputs": [],
   "source": [
    "#########to remove dublicated data###########\n",
    "df.drop_duplicates(inplace=True)"
   ]
  },
  {
   "cell_type": "code",
   "execution_count": 7,
   "id": "b9f545ff-e2f8-4a54-948e-eda23a33df46",
   "metadata": {},
   "outputs": [
    {
     "name": "stdout",
     "output_type": "stream",
     "text": [
      "the number of raws = 24, and the number of columns = 6\n",
      "\n"
     ]
    }
   ],
   "source": [
    "raws , columns = df.shape\n",
    "print(\"the number of raws = {}, and the number of columns = {}\\n\".format(raws , columns))"
   ]
  },
  {
   "cell_type": "code",
   "execution_count": 8,
   "id": "31502372-8350-4e83-b33e-58ebb767bd94",
   "metadata": {},
   "outputs": [
    {
     "name": "stdout",
     "output_type": "stream",
     "text": [
      "here are the number of items,the mean, the minimum, the maximum, the standard deviation, the 25%, 50%, 75% in each column ----> \n",
      "\n",
      "         رقم الموبايل\n",
      "count  2.300000e+01\n",
      "mean   1.196527e+09\n",
      "std    8.905425e+07\n",
      "min    1.005610e+09\n",
      "25%    1.170503e+09\n",
      "50%    1.211557e+09\n",
      "75%    1.276724e+09\n",
      "max    1.282733e+09 \n",
      "\n"
     ]
    }
   ],
   "source": [
    "describtion = df.describe()\n",
    "print(\"here are the number of items,the mean, the minimum, the maximum, the standard deviation, the 25%, 50%, 75% in each column ----> \\n\\n \",describtion, \"\\n\")"
   ]
  },
  {
   "cell_type": "code",
   "execution_count": 9,
   "id": "77b67de1-03ac-4468-98b2-3a766086b0f8",
   "metadata": {},
   "outputs": [
    {
     "name": "stdout",
     "output_type": "stream",
     "text": [
      "the most 3 frequent items in each column are--->\n",
      "\n",
      "                 الاسم   السنة الدراسية  تاريخ الميلاد رقم الموبايل الأهل  \\\n",
      "0  ابانوب ايمن اسكندر   الثاني الأعدادي    01-02-2010        01224999835   \n",
      "1           ابرام عماد              NaN    01-10-2009                NaN   \n",
      "2         استافرو تامر              NaN    01-11-2009                NaN   \n",
      "\n",
      "   رقم الموبايل                              العنوان  \n",
      "0  1.005610e+09   7شارع عبيدة بن الجراح الدور التالت  \n",
      "1  1.016013e+09  12شارع الشيخ محمد عبده الدور التاني  \n",
      "2  1.064336e+09                      19شارع الأسيوطي   \n",
      "\n"
     ]
    }
   ],
   "source": [
    "three_mean = df.mode()[:3]\n",
    "print(\"the most 3 frequent items in each column are--->\\n\\n\", three_mean, \"\\n\")"
   ]
  },
  {
   "cell_type": "code",
   "execution_count": 10,
   "id": "06ccb015-9a00-4ea7-a5f9-da3fe0902bfb",
   "metadata": {},
   "outputs": [
    {
     "data": {
      "text/plain": [
       "الاسم                 0\n",
       "السنة الدراسية        1\n",
       "تاريخ الميلاد         2\n",
       "رقم الموبايل الأهل    1\n",
       "رقم الموبايل          1\n",
       "العنوان               6\n",
       "dtype: int64"
      ]
     },
     "execution_count": 10,
     "metadata": {},
     "output_type": "execute_result"
    }
   ],
   "source": [
    "df.isna().sum()"
   ]
  },
  {
   "cell_type": "code",
   "execution_count": 11,
   "id": "302cd9a6-b11c-4b09-8d0f-156bbbd86dd3",
   "metadata": {},
   "outputs": [],
   "source": [
    "#filling the missing vlaues with 0\n",
    "df=df.fillna(0)"
   ]
  },
  {
   "cell_type": "code",
   "execution_count": 12,
   "id": "ca172284-fc7f-47f2-8098-02aed4ab4f1e",
   "metadata": {},
   "outputs": [
    {
     "data": {
      "text/plain": [
       "الاسم                 0\n",
       "السنة الدراسية        0\n",
       "تاريخ الميلاد         0\n",
       "رقم الموبايل الأهل    0\n",
       "رقم الموبايل          0\n",
       "العنوان               0\n",
       "dtype: int64"
      ]
     },
     "execution_count": 12,
     "metadata": {},
     "output_type": "execute_result"
    }
   ],
   "source": [
    "df.isna().sum()"
   ]
  },
  {
   "cell_type": "code",
   "execution_count": 13,
   "id": "410d8e07-1035-4596-a326-5c24157b8bfa",
   "metadata": {},
   "outputs": [],
   "source": [
    "\n",
    "columns_list =list(df)\n"
   ]
  },
  {
   "cell_type": "code",
   "execution_count": 14,
   "id": "59f79514-be6e-4270-8afa-249914c8fde3",
   "metadata": {},
   "outputs": [
    {
     "name": "stdout",
     "output_type": "stream",
     "text": [
      "\n",
      "\n",
      "\n",
      "the encoding of the numerical data for column (الاسم ) is ---->\n",
      " (array([ 0,  1,  2,  3,  4,  5,  6,  7,  8,  9, 10, 11, 12, 13, 14, 15, 16,\n",
      "       17, 18, 19, 20, 21, 22, 23], dtype=int64), Index(['ابانوب ايمن اسكندر ', 'كاراس نادر كرم ', 'كاراس روماني نجيب ',\n",
      "       'كاراس مايكل جميل ', 'فيلوباتير اكرم ميشيل', 'ديفيد مايكل عادل ',\n",
      "       'فيلوباتير رامي حبيب ', 'ستيفين القس بافلوس ', 'شادي شريف عاطف ',\n",
      "       'كيرلس هاني جرجس ', 'توني عادل ', 'بيتر كمال', 'استافرو تامر',\n",
      "       'فبلوباتير القس اسطفانوس ', 'بافلي البير ابراهيم ', 'مارك عماد عادل ',\n",
      "       'تكلا ماجد رمسيس ', 'سامح هاني فايز ', 'بيشوي  جوزيف ', 'مايكل نادر',\n",
      "       'انتوني نادر', 'ابرام عماد', 'فيلوباتير مينا', 'بيشوي هاني'],\n",
      "      dtype='object'))\n",
      "\n",
      "\n",
      "\n",
      "the encoding of the numerical data for column (السنة الدراسية ) is ---->\n",
      " (array([0, 0, 1, 1, 2, 1, 1, 3, 3, 4, 4, 3, 3, 3, 3, 3, 3, 3, 3, 3, 3, 3,\n",
      "       5, 6], dtype=int64), Index(['السادس الابتدائي ',   'الأول الاعدادي ',  'السادس البتدائي ',\n",
      "         'الثاني الأعدادي',  'الثاني الأعدادي ',    'الأول الأعدادي',\n",
      "                         0],\n",
      "      dtype='object'))\n",
      "\n",
      "\n",
      "\n",
      "the encoding of the numerical data for column (تاريخ الميلاد) is ---->\n",
      " (array([ 0,  1,  2,  3,  4,  5,  6,  7,  8,  9, 10, 11, 12, 13, 14, 15, 16,\n",
      "       17, 18, 19, 20, 21, 22, 21], dtype=int64), Index(['03-01-2012', '17-11-2011', '22-08-2011', '20-06-2011', '26-05-2011',\n",
      "       '11-04-2011', '29-10-2010', '02-10-2010', '08-08-2010', '17-06-2010',\n",
      "       '09-06-2010', '06-06-2010', '14-02-2010', '01-02-2010', '22-01-2010',\n",
      "       '01-11-2009', '28-10-2009', '01-10-2009', '11-08-2009', '29-07-2009',\n",
      "       '14-12-2010',            0,  '4/18/2011'],\n",
      "      dtype='object'))\n",
      "\n",
      "\n",
      "\n",
      "the encoding of the numerical data for column (رقم الموبايل الأهل) is ---->\n",
      " (array([ 0,  1,  2,  3,  4,  5,  6,  7,  8,  9, 10, 11, 12,  1, 13, 14, 15,\n",
      "       16, 17, 18, 19, 20, 21, 22], dtype=int64), Index([              '01226243364',               '01224999835',\n",
      "                     '01223401597', '01286994809 / 01099969142',\n",
      "                     '01200224200',                '0122439121',\n",
      "                     '01228914459',   '01221523130/01270273003',\n",
      "                     '01280555903',               '01226993996',\n",
      "                     '01227020165',               '01223617875',\n",
      "                     '01286441252',               '01273717258',\n",
      "       '01210717058 / 01275742620',               '01224333828',\n",
      "       '01221333087 / 01227331303',               '01224171036',\n",
      "                     '01286836979',               '01005004305',\n",
      "                     '01226155774',               '01147765691',\n",
      "                                 0],\n",
      "      dtype='object'))\n",
      "\n",
      "\n",
      "\n",
      "the encoding of the numerical data for column (رقم الموبايل) is ---->\n",
      " (array([ 0,  1,  2,  3,  4,  5,  6,  7,  8,  9, 10, 11, 12, 13, 14, 15, 16,\n",
      "       17, 18, 19, 20, 21, 22, 23], dtype=int64), Index([1276541674.0, 1064927529.0, 1281123892.0, 1064336379.0, 1200526850.0,\n",
      "       1016013025.0, 1278192211.0, 1282733484.0, 1205173530.0, 1222382736.0,\n",
      "       1274529046.0, 1200083428.0, 1221848126.0, 1276906562.0, 1225907784.0,\n",
      "       1211556519.0, 1207041380.0, 1095620897.0, 1282645223.0, 1280605704.0,\n",
      "       1005610289.0, 1204899521.0, 1140922659.0,          0.0],\n",
      "      dtype='float64'))\n",
      "\n",
      "\n",
      "\n",
      "the encoding of the numerical data for column (العنوان) is ---->\n",
      " (array([ 0,  1,  2,  3,  4,  5,  6,  7,  8,  9, 10, 11, 12, 12, 13, 14, 15,\n",
      "       16, 12, 12, 17, 12, 18, 12], dtype=int64), Index([            ' 7شارع عبيدة بن الجراح الدور التالت',\n",
      "                                        '49 شارع الخليج',\n",
      "                                  '3شارع السيد علي حسين',\n",
      "                       '19شارع التقوي خلف مستشفي الجاوش',\n",
      "                                          '26شارع مكة  ',\n",
      "                                  '37شارع صالح أبو رحيل',\n",
      "                                       '19شارع الأسيوطي',\n",
      "                                   '26شارع مجمع المصالح',\n",
      "                                       'عمارة 6 شقة 904',\n",
      "                     'موقف المنصورة امام مستشفي التخصصي',\n",
      "                          '8شارع محمد عبده الدور الرابع',\n",
      "                                         '92شارع النائب',\n",
      "                                                       0,\n",
      "                                                  'ههيا',\n",
      "                             '4شارع المدير الدور الخامس',\n",
      "                   '12شارع الشيخ محمد عبده الدور التاني',\n",
      "       'عمارات بنك الأسكان عمارة 5 شقة 603 الدور السابع',\n",
      "                       'الامن الغذائي امام شمس للنضارات',\n",
      "       'عمارة بنك الأسكان و التعمير بعمارات بنك الأسكان'],\n",
      "      dtype='object'))\n"
     ]
    }
   ],
   "source": [
    "for i in columns_list:\n",
    "\n",
    "    foramted = pd.factorize(df[i])\n",
    "    print(\"\\n\\n\\nthe encoding of the numerical data for column ({}) is ---->\\n\".format(i),foramted)\n"
   ]
  },
  {
   "cell_type": "code",
   "execution_count": null,
   "id": "9438679c-501e-46fc-921e-953654f8c15d",
   "metadata": {},
   "outputs": [],
   "source": []
  }
 ],
 "metadata": {
  "kernelspec": {
   "display_name": "Python 3 (ipykernel)",
   "language": "python",
   "name": "python3"
  },
  "language_info": {
   "codemirror_mode": {
    "name": "ipython",
    "version": 3
   },
   "file_extension": ".py",
   "mimetype": "text/x-python",
   "name": "python",
   "nbconvert_exporter": "python",
   "pygments_lexer": "ipython3",
   "version": "3.11.7"
  }
 },
 "nbformat": 4,
 "nbformat_minor": 5
}
