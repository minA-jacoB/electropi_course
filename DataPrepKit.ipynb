{
 "cells": [
  {
   "cell_type": "code",
   "execution_count": 1,
   "id": "5eac156f-ed18-4cb8-a49b-9f0f4763af0f",
   "metadata": {},
   "outputs": [],
   "source": [
    "import pandas as pd\n",
    "import numpy as np\n",
    "import matplotlib as plt"
   ]
  },
  {
   "cell_type": "code",
   "execution_count": 2,
   "id": "96c75aa4-e3e2-4087-a93c-8fbb5a925cee",
   "metadata": {},
   "outputs": [],
   "source": [
    "#first step is recieve the input from the user, Test if the file type is one of csv, excel or json file types.\n"
   ]
  },
  {
   "cell_type": "code",
   "execution_count": null,
   "id": "6148b355-293a-4efa-bd90-48066f61cd03",
   "metadata": {},
   "outputs": [],
   "source": [
    "inpt= input(\"write your file name\\n\")\n",
    "file_type = inpt.split(\".\")[-1]\n",
    "\n",
    "while True : \n",
    "    if file_type == \"csv\" or file_type ==\"xlsx\" or file_type ==\"json\":\n",
    "        break;\n",
    "    else:\n",
    "        inpt= input(\"please write excel, csv or json file type\\n\")\n",
    "        file_type = inpt.split(\".\")[-1]\n",
    "        \n",
    "        "
   ]
  },
  {
   "cell_type": "code",
   "execution_count": null,
   "id": "b5b46989-0d7b-4d04-a99d-ddfcf43cbd12",
   "metadata": {},
   "outputs": [],
   "source": [
    "#then read the file according to the type of the file"
   ]
  },
  {
   "cell_type": "code",
   "execution_count": null,
   "id": "6b5ed344-8f9a-414a-8ea8-4f671c7c72c9",
   "metadata": {},
   "outputs": [],
   "source": [
    "if file_type == \"csv\":\n",
    "    df= pd.read_csv(inpt)\n",
    "elif file_type == \"xlsx\":\n",
    "    df= pd.read_excel(inpt)\n",
    "elif file_type == \"json\":\n",
    "    df= pd.read_json(inpt)\n",
    "    "
   ]
  },
  {
   "cell_type": "code",
   "execution_count": null,
   "id": "24b3037e-8071-406a-acdb-10916db06404",
   "metadata": {},
   "outputs": [],
   "source": [
    "#########to remove dublicated data###########\n",
    "df.drop_duplicates(inplace=True)"
   ]
  },
  {
   "cell_type": "code",
   "execution_count": null,
   "id": "b9f545ff-e2f8-4a54-948e-eda23a33df46",
   "metadata": {},
   "outputs": [],
   "source": [
    "raws , columns = df.shape\n",
    "print(\"the number of raws = {}, and the number of columns = {}\\n\".format(raws , columns))"
   ]
  },
  {
   "cell_type": "code",
   "execution_count": null,
   "id": "31502372-8350-4e83-b33e-58ebb767bd94",
   "metadata": {},
   "outputs": [],
   "source": [
    "describtion = df.describe()\n",
    "print(\"here are the number of items,the mean, the minimum, the maximum, the standard deviation, the 25%, 50%, 75% in each column ----> \\n\\n \",describtion, \"\\n\")"
   ]
  },
  {
   "cell_type": "code",
   "execution_count": null,
   "id": "77b67de1-03ac-4468-98b2-3a766086b0f8",
   "metadata": {},
   "outputs": [],
   "source": [
    "three_mean = df.mode()[:3]\n",
    "print(\"the most 3 frequent items in each column are--->\\n\\n\", three_mean, \"\\n\")"
   ]
  },
  {
   "cell_type": "code",
   "execution_count": null,
   "id": "06ccb015-9a00-4ea7-a5f9-da3fe0902bfb",
   "metadata": {},
   "outputs": [],
   "source": [
    "df.isna().sum()"
   ]
  },
  {
   "cell_type": "code",
   "execution_count": null,
   "id": "302cd9a6-b11c-4b09-8d0f-156bbbd86dd3",
   "metadata": {},
   "outputs": [],
   "source": [
    "#filling the missing vlaues with 0\n",
    "df=df.fillna(0)"
   ]
  },
  {
   "cell_type": "code",
   "execution_count": null,
   "id": "ca172284-fc7f-47f2-8098-02aed4ab4f1e",
   "metadata": {},
   "outputs": [],
   "source": [
    "df.isna().sum()"
   ]
  },
  {
   "cell_type": "code",
   "execution_count": null,
   "id": "410d8e07-1035-4596-a326-5c24157b8bfa",
   "metadata": {},
   "outputs": [],
   "source": [
    "\n",
    "columns_list =list(df)\n"
   ]
  },
  {
   "cell_type": "code",
   "execution_count": null,
   "id": "59f79514-be6e-4270-8afa-249914c8fde3",
   "metadata": {},
   "outputs": [],
   "source": [
    "for i in columns_list:\n",
    "\n",
    "    foramted = pd.factorize(df[i])\n",
    "    print(\"\\n\\n\\nthe encoding of the numerical data for column ({}) is ---->\\n\".format(i),foramted)\n"
   ]
  },
  {
   "cell_type": "code",
   "execution_count": null,
   "id": "9438679c-501e-46fc-921e-953654f8c15d",
   "metadata": {},
   "outputs": [],
   "source": []
  }
 ],
 "metadata": {
  "kernelspec": {
   "display_name": "Python 3 (ipykernel)",
   "language": "python",
   "name": "python3"
  },
  "language_info": {
   "codemirror_mode": {
    "name": "ipython",
    "version": 3
   },
   "file_extension": ".py",
   "mimetype": "text/x-python",
   "name": "python",
   "nbconvert_exporter": "python",
   "pygments_lexer": "ipython3",
   "version": "3.11.7"
  }
 },
 "nbformat": 4,
 "nbformat_minor": 5
}
